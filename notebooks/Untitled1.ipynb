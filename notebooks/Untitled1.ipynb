{
 "cells": [
  {
   "cell_type": "code",
   "execution_count": 2,
   "metadata": {},
   "outputs": [],
   "source": [
    "import xarray as xr\n",
    "import numpy as np\n",
    "from xmitgcm import open_mdsdataset\n",
    "from xgcm import Grid\n",
    "from os.path import join as pjoin\n",
    "%matplotlib inline"
   ]
  },
  {
   "cell_type": "code",
   "execution_count": 3,
   "metadata": {},
   "outputs": [
    {
     "name": "stderr",
     "output_type": "stream",
     "text": [
      "/rigel/home/jb3210/src/xmitgcm/xmitgcm/utils.py:314: UserWarning: Not sure what to do with rlev = L\n",
      "  warnings.warn(\"Not sure what to do with rlev = \" + rlev)\n",
      "/rigel/home/jb3210/src/xmitgcm/xmitgcm/mds_store.py:220: FutureWarning: iteration over an xarray.Dataset will change in xarray v0.11 to only include data variables, not coordinates. Iterate over the Dataset.variables property instead to preserve existing behavior in a forwards compatible manner.\n",
      "  for vname in ds:\n"
     ]
    },
    {
     "data": {
      "text/plain": [
       "<xarray.Dataset>\n",
       "Dimensions:   (i: 3600, i_g: 3600, j: 1600, j_g: 1600, k: 1, k_l: 1, k_p1: 2, k_u: 1, time: 292)\n",
       "Coordinates:\n",
       "  * i         (i) int64 0 1 2 3 4 5 6 7 8 9 10 11 12 13 14 15 16 17 18 19 20 ...\n",
       "  * i_g       (i_g) int64 0 1 2 3 4 5 6 7 8 9 10 11 12 13 14 15 16 17 18 19 ...\n",
       "  * j         (j) int64 0 1 2 3 4 5 6 7 8 9 10 11 12 13 14 15 16 17 18 19 20 ...\n",
       "  * j_g       (j_g) int64 0 1 2 3 4 5 6 7 8 9 10 11 12 13 14 15 16 17 18 19 ...\n",
       "  * k         (k) int64 0\n",
       "  * k_u       (k_u) int64 0\n",
       "  * k_l       (k_l) int64 0\n",
       "  * k_p1      (k_p1) int64 0 1\n",
       "    XC        (j, i) >f4 dask.array<shape=(1600, 3600), chunksize=(1600, 3600)>\n",
       "    YC        (j, i) >f4 dask.array<shape=(1600, 3600), chunksize=(1600, 3600)>\n",
       "    XG        (j_g, i_g) >f4 dask.array<shape=(1600, 3600), chunksize=(1600, 3600)>\n",
       "    YG        (j_g, i_g) >f4 dask.array<shape=(1600, 3600), chunksize=(1600, 3600)>\n",
       "    Z         (k) >f4 dask.array<shape=(1,), chunksize=(1,)>\n",
       "    Zp1       (k_p1) >f4 dask.array<shape=(2,), chunksize=(2,)>\n",
       "    Zu        (k_u) >f4 dask.array<shape=(1,), chunksize=(1,)>\n",
       "    Zl        (k_l) >f4 dask.array<shape=(1,), chunksize=(1,)>\n",
       "    rA        (j, i) >f4 dask.array<shape=(1600, 3600), chunksize=(1600, 3600)>\n",
       "    dxG       (j_g, i) >f4 dask.array<shape=(1600, 3600), chunksize=(1600, 3600)>\n",
       "    dyG       (j, i_g) >f4 dask.array<shape=(1600, 3600), chunksize=(1600, 3600)>\n",
       "    Depth     (j, i) >f4 dask.array<shape=(1600, 3600), chunksize=(1600, 3600)>\n",
       "    rAz       (j_g, i_g) >f4 dask.array<shape=(1600, 3600), chunksize=(1600, 3600)>\n",
       "    dxC       (j, i_g) >f4 dask.array<shape=(1600, 3600), chunksize=(1600, 3600)>\n",
       "    dyC       (j_g, i) >f4 dask.array<shape=(1600, 3600), chunksize=(1600, 3600)>\n",
       "    rAw       (j, i_g) >f4 dask.array<shape=(1600, 3600), chunksize=(1600, 3600)>\n",
       "    rAs       (j_g, i) >f4 dask.array<shape=(1600, 3600), chunksize=(1600, 3600)>\n",
       "    drC       (k_p1) >f4 dask.array<shape=(2,), chunksize=(2,)>\n",
       "    drF       (k) >f4 dask.array<shape=(1,), chunksize=(1,)>\n",
       "    PHrefC    (k) >f4 dask.array<shape=(1,), chunksize=(1,)>\n",
       "    PHrefF    (k_p1) >f4 dask.array<shape=(2,), chunksize=(2,)>\n",
       "    hFacC     (j, i) >f4 dask.array<shape=(1600, 3600), chunksize=(1600, 3600)>\n",
       "    hFacW     (j, i_g) >f4 dask.array<shape=(1600, 3600), chunksize=(1600, 3600)>\n",
       "    hFacS     (j_g, i) >f4 dask.array<shape=(1600, 3600), chunksize=(1600, 3600)>\n",
       "    iter      (time) int64 dask.array<shape=(292,), chunksize=(1,)>\n",
       "  * time      (time) int64 2592000 5184000 7776000 10368000 12960000 ...\n",
       "Data variables:\n",
       "    TRAC01    (time, j, i) float32 dask.array<shape=(292, 1600, 3600), chunksize=(1, 1600, 3600)>\n",
       "    TRAC02    (time, j, i) float32 dask.array<shape=(292, 1600, 3600), chunksize=(1, 1600, 3600)>\n",
       "    TRACSQ01  (time, j, i) float32 dask.array<shape=(292, 1600, 3600), chunksize=(1, 1600, 3600)>\n",
       "    TRACSQ02  (time, j, i) float32 dask.array<shape=(292, 1600, 3600), chunksize=(1, 1600, 3600)>\n",
       "    DXSqTr01  (time, j, i_g) float32 dask.array<shape=(292, 1600, 3600), chunksize=(1, 1600, 3600)>\n",
       "    DXSqTr02  (time, j, i_g) float32 dask.array<shape=(292, 1600, 3600), chunksize=(1, 1600, 3600)>\n",
       "    DYSqTr01  (time, j_g, i) float32 dask.array<shape=(292, 1600, 3600), chunksize=(1, 1600, 3600)>\n",
       "    DYSqTr02  (time, j_g, i) float32 dask.array<shape=(292, 1600, 3600), chunksize=(1, 1600, 3600)>\n",
       "    UTRAC01   (time, j, i_g) float32 dask.array<shape=(292, 1600, 3600), chunksize=(1, 1600, 3600)>\n",
       "    UTRAC02   (time, j, i_g) float32 dask.array<shape=(292, 1600, 3600), chunksize=(1, 1600, 3600)>\n",
       "    VTRAC01   (time, j_g, i) float32 dask.array<shape=(292, 1600, 3600), chunksize=(1, 1600, 3600)>\n",
       "    VTRAC02   (time, j_g, i) float32 dask.array<shape=(292, 1600, 3600), chunksize=(1, 1600, 3600)>\n",
       "    UTrSq01   (time, j, i_g) float32 dask.array<shape=(292, 1600, 3600), chunksize=(1, 1600, 3600)>\n",
       "    UTrSq02   (time, j, i_g) float32 dask.array<shape=(292, 1600, 3600), chunksize=(1, 1600, 3600)>\n",
       "    VTrSq01   (time, j_g, i) float32 dask.array<shape=(292, 1600, 3600), chunksize=(1, 1600, 3600)>\n",
       "    VTrSq02   (time, j_g, i) float32 dask.array<shape=(292, 1600, 3600), chunksize=(1, 1600, 3600)>"
      ]
     },
     "execution_count": 3,
     "metadata": {},
     "output_type": "execute_result"
    }
   ],
   "source": [
    "ddir = '/rigel/ocp/users/jb3210/projects/aviso_surface_tracer/runs'\n",
    "\n",
    "run = 'run_KOC_PSI_variance_budget'\n",
    "rundir = pjoin(ddir,run)\n",
    "timestep = 900 # in seconds\n",
    "readin_dict = dict(delta_t=timestep, swap_dims=False)\n",
    "ds_mean = open_mdsdataset(rundir,prefix=['tracer_diags'], **readin_dict)\n",
    "ds_mean"
   ]
  },
  {
   "cell_type": "code",
   "execution_count": 9,
   "metadata": {},
   "outputs": [
    {
     "data": {
      "text/plain": [
       "<xarray.DataArray (i: 3600, j: 1600)>\n",
       "array([[       0,        1,        4, ...,  2550409,  2553604,  2556801],\n",
       "       [       1,        2,        5, ...,  2550410,  2553605,  2556802],\n",
       "       [       4,        5,        8, ...,  2550413,  2553608,  2556805],\n",
       "       ..., \n",
       "       [12938409, 12938410, 12938413, ..., 15488818, 15492013, 15495210],\n",
       "       [12945604, 12945605, 12945608, ..., 15496013, 15499208, 15502405],\n",
       "       [12952801, 12952802, 12952805, ..., 15503210, 15506405, 15509602]])\n",
       "Coordinates:\n",
       "  * i        (i) int64 0 1 2 3 4 5 6 7 8 9 10 11 12 13 14 15 16 17 18 19 20 ...\n",
       "  * j        (j) int64 0 1 2 3 4 5 6 7 8 9 10 11 12 13 14 15 16 17 18 19 20 ..."
      ]
     },
     "execution_count": 9,
     "metadata": {},
     "output_type": "execute_result"
    }
   ],
   "source": [
    "test_tracer = ds_mean.i**2+ds_mean.j**2\n",
    "test_tracer"
   ]
  },
  {
   "cell_type": "code",
   "execution_count": 13,
   "metadata": {},
   "outputs": [
    {
     "data": {
      "text/plain": [
       "<xarray.DataArray 'rA' ()>\n",
       "array(123604240.0, dtype=float32)\n",
       "Coordinates:\n",
       "    i        int64 1800\n",
       "    j        int64 800\n",
       "    XC       float32 180.05\n",
       "    YC       float32 0.05\n",
       "    rA       float32 1.23604e+08\n",
       "    Depth    float32 100.0\n",
       "    hFacC    float32 1.0\n",
       "Attributes:\n",
       "    standard_name:  cell_area\n",
       "    long_name:      cell area\n",
       "    units:          m2\n",
       "    coordinate:     YC XC"
      ]
     },
     "execution_count": 13,
     "metadata": {},
     "output_type": "execute_result"
    }
   ],
   "source": [
    "ds_mean['rA'].isel(j=800,i=1800).compute()"
   ]
  },
  {
   "cell_type": "code",
   "execution_count": 16,
   "metadata": {},
   "outputs": [
    {
     "ename": "AttributeError",
     "evalue": "'Dataset' object has no attribute 'UVEL'",
     "output_type": "error",
     "traceback": [
      "\u001b[0;31m---------------------------------------------------------------------------\u001b[0m",
      "\u001b[0;31mAttributeError\u001b[0m                            Traceback (most recent call last)",
      "\u001b[0;32m<ipython-input-16-773dd79ed1aa>\u001b[0m in \u001b[0;36m<module>\u001b[0;34m()\u001b[0m\n\u001b[0;32m----> 1\u001b[0;31m \u001b[0mds_mean\u001b[0m\u001b[0;34m.\u001b[0m\u001b[0mUVEL\u001b[0m\u001b[0;34m\u001b[0m\u001b[0m\n\u001b[0m",
      "\u001b[0;32m~/src/xarray/xarray/core/common.py\u001b[0m in \u001b[0;36m__getattr__\u001b[0;34m(self, name)\u001b[0m\n\u001b[1;32m    174\u001b[0m                     \u001b[0;32mreturn\u001b[0m \u001b[0msource\u001b[0m\u001b[0;34m[\u001b[0m\u001b[0mname\u001b[0m\u001b[0;34m]\u001b[0m\u001b[0;34m\u001b[0m\u001b[0m\n\u001b[1;32m    175\u001b[0m         raise AttributeError(\"%r object has no attribute %r\" %\n\u001b[0;32m--> 176\u001b[0;31m                              (type(self).__name__, name))\n\u001b[0m\u001b[1;32m    177\u001b[0m \u001b[0;34m\u001b[0m\u001b[0m\n\u001b[1;32m    178\u001b[0m     \u001b[0;32mdef\u001b[0m \u001b[0m__setattr__\u001b[0m\u001b[0;34m(\u001b[0m\u001b[0mself\u001b[0m\u001b[0;34m,\u001b[0m \u001b[0mname\u001b[0m\u001b[0;34m,\u001b[0m \u001b[0mvalue\u001b[0m\u001b[0;34m)\u001b[0m\u001b[0;34m:\u001b[0m\u001b[0;34m\u001b[0m\u001b[0m\n",
      "\u001b[0;31mAttributeError\u001b[0m: 'Dataset' object has no attribute 'UVEL'"
     ]
    }
   ],
   "source": [
    "ds_m.UVEL"
   ]
  },
  {
   "cell_type": "code",
   "execution_count": 9,
   "metadata": {},
   "outputs": [
    {
     "data": {
      "text/plain": [
       "<xarray.DataArray 'DYSqTr01' (time: 292, j_g: 1600, i: 3600)>\n",
       "dask.array<shape=(292, 1600, 3600), dtype=float32, chunksize=(1, 1600, 3600)>\n",
       "Coordinates:\n",
       "  * i        (i) int64 0 1 2 3 4 5 6 7 8 9 10 11 12 13 14 15 16 17 18 19 20 ...\n",
       "  * j_g      (j_g) int64 0 1 2 3 4 5 6 7 8 9 10 11 12 13 14 15 16 17 18 19 ...\n",
       "    dxG      (j_g, i) >f4 dask.array<shape=(1600, 3600), chunksize=(1600, 3600)>\n",
       "    dyC      (j_g, i) >f4 dask.array<shape=(1600, 3600), chunksize=(1600, 3600)>\n",
       "    rAs      (j_g, i) >f4 dask.array<shape=(1600, 3600), chunksize=(1600, 3600)>\n",
       "    hFacS    (j_g, i) >f4 dask.array<shape=(1600, 3600), chunksize=(1600, 3600)>\n",
       "    iter     (time) int64 dask.array<shape=(292,), chunksize=(1,)>\n",
       "  * time     (time) int64 2592000 5184000 7776000 10368000 12960000 15552000 ...\n",
       "Attributes:\n",
       "    standard_name:  DYSqTr01\n",
       "    long_name:      TR1 meridional gradient squared\n",
       "    units:          kg/kg  ^2 / m^2"
      ]
     },
     "execution_count": 9,
     "metadata": {},
     "output_type": "execute_result"
    }
   ],
   "source": [
    "ds_mean.DYSqTr01"
   ]
  },
  {
   "cell_type": "code",
   "execution_count": 14,
   "metadata": {},
   "outputs": [
    {
     "data": {
      "text/plain": [
       "<matplotlib.collections.QuadMesh at 0x2aab3a53c828>"
      ]
     },
     "execution_count": 14,
     "metadata": {},
     "output_type": "execute_result"
    },
    {
     "data": {
      "image/png": "[encoded data removed]",
      "text/plain": [
       "<matplotlib.figure.Figure at 0x2aab3a4e3eb8>"
      ]
     },
     "metadata": {},
     "output_type": "display_data"
    }
   ],
   "source": [
    "ds_mean.hFacW.plot()"
   ]
  },
  {
   "cell_type": "code",
   "execution_count": null,
   "metadata": {},
   "outputs": [],
   "source": []
  }
 ],
 "metadata": {
  "kernelspec": {
   "display_name": "Python 3",
   "language": "python",
   "name": "python3"
  },
  "language_info": {
   "codemirror_mode": {
    "name": "ipython",
    "version": 3
   },
   "file_extension": ".py",
   "mimetype": "text/x-python",
   "name": "python",
   "nbconvert_exporter": "python",
   "pygments_lexer": "ipython3",
   "version": "3.6.3"
  }
 },
 "nbformat": 4,
 "nbformat_minor": 2
}
