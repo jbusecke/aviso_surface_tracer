{
 "cells": [
  {
   "cell_type": "markdown",
   "metadata": {},
   "source": [
    "# Visualizations for Presentations"
   ]
  },
  {
   "cell_type": "code",
   "execution_count": 1,
   "metadata": {},
   "outputs": [
    {
     "name": "stderr",
     "output_type": "stream",
     "text": [
      "/rigel/home/jb3210/miniconda/envs/standard/lib/python2.7/site-packages/xarray/core/formatting.py:16: FutureWarning: The pandas.tslib module is deprecated and will be removed in a future version.\n",
      "  from pandas.tslib import OutOfBoundsDatetime\n"
     ]
    }
   ],
   "source": [
    "import xarrayutils.visualization as viz\n",
    "from xmitgcm import open_mdsdataset\n",
    "from mitgcm_surface_tracer.tracer_processing import tracer_engine\n",
    "import xarray as xr"
   ]
  },
  {
   "cell_type": "code",
   "execution_count": null,
   "metadata": {
    "collapsed": true
   },
   "outputs": [],
   "source": [
    "root = '/rigel/ocp/users/jb3210/aviso_surface_tracer/runs'\n",
    "run = 'run_KOC_PSI'\n",
    "validmask = '/rigel/ocp/users/jb3210/aviso_surface_tracer/offline_velocities/aviso_DUACS2014_daily_msla/interpolated/validmask_combined.bin'\n",
    "\n",
    "\n",
    "ds_test = open_mdsdataset(root+'/'+run,prefix=['tracer_diags'])"
   ]
  },
  {
   "cell_type": "code",
   "execution_count": 4,
   "metadata": {},
   "outputs": [
    {
     "data": {
      "text/plain": [
       "<xarray.DataArray 'TRAC01' (time: 292, YC: 1600, XC: 3600)>\n",
       "dask.array<concatenate, shape=(292, 1600, 3600), dtype=float32, chunksize=(1, 1600, 3600)>\n",
       "Coordinates:\n",
       "    iter     (time) int64 2880 5760 8640 11520 14400 17280 20160 23040 25920 ...\n",
       "  * time     (time) int64 2880 5760 8640 11520 14400 17280 20160 23040 25920 ...\n",
       "  * XC       (XC) >f4 0.05 0.15 0.25 0.35 0.45 0.55 0.65 0.75 0.85 0.95 1.05 ...\n",
       "  * YC       (YC) >f4 -79.95 -79.85 -79.75 -79.65 -79.55 -79.45 -79.35 ...\n",
       "    Depth    (YC, XC) >f4 0.0 0.0 0.0 0.0 0.0 0.0 0.0 0.0 0.0 0.0 0.0 0.0 ...\n",
       "    rA       (YC, XC) >f4 2.15699e+07 2.15699e+07 2.15699e+07 2.15699e+07 ...\n",
       "    hFacC    (YC, XC) >f4 0.0 0.0 0.0 0.0 0.0 0.0 0.0 0.0 0.0 0.0 0.0 0.0 ...\n",
       "Attributes:\n",
       "    units:          kg/kg\n",
       "    long_name:      TR1 concentration\n",
       "    standard_name:  TRAC01"
      ]
     },
     "execution_count": 4,
     "metadata": {},
     "output_type": "execute_result"
    }
   ],
   "source": [
    "ds_test\n",
    "\n",
    "tracer = ds_test.TRAC01\n",
    "tracer\n",
    "\n",
    "odir = ''\n",
    "viz\n",
    "# Why does this fail\n",
    "# print raw files\n",
    "# tr = tracer_engine(root+'/'+run,validmaskpath=validmask)\n",
    "# ds_raw = tr.read(['tracer_diags'])\n",
    "# ds_raw"
   ]
  },
  {
   "cell_type": "code",
   "execution_count": null,
   "metadata": {
    "collapsed": true
   },
   "outputs": [],
   "source": []
  }
 ],
 "metadata": {
  "kernelspec": {
   "display_name": "Python 2",
   "language": "python",
   "name": "python2"
  },
  "language_info": {
   "codemirror_mode": {
    "name": "ipython",
    "version": 2
   },
   "file_extension": ".py",
   "mimetype": "text/x-python",
   "name": "python",
   "nbconvert_exporter": "python",
   "pygments_lexer": "ipython2",
   "version": "2.7.13"
  }
 },
 "nbformat": 4,
 "nbformat_minor": 2
}
