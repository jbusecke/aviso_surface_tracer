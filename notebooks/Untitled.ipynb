{
 "cells": [
  {
   "cell_type": "code",
   "execution_count": 1,
   "metadata": {},
   "outputs": [],
   "source": [
    "# solve equation for inverted mixing efficiency"
   ]
  },
  {
   "cell_type": "code",
   "execution_count": 7,
   "metadata": {},
   "outputs": [],
   "source": [
    "from sympy.solvers import solve\n",
    "from sympy import Symbol, var, Eq"
   ]
  },
  {
   "cell_type": "code",
   "execution_count": 5,
   "metadata": {},
   "outputs": [
    {
     "data": {
      "text/plain": [
       "(Gamma, K_min, u_rms, L_obs, k, speed_diff)"
      ]
     },
     "execution_count": 5,
     "metadata": {},
     "output_type": "execute_result"
    }
   ],
   "source": [
    "var('Gamma, K_min, u_rms, L_obs, k, speed_diff')"
   ]
  },
  {
   "cell_type": "code",
   "execution_count": 19,
   "metadata": {},
   "outputs": [],
   "source": [
    "eqn=Eq(K_min,(Gamma * u_rms * L_obs) / (1 + ((k**2 / (u_rms / (2*Gamma*L_obs))) * speed_diff**2)))"
   ]
  },
  {
   "cell_type": "code",
   "execution_count": 22,
   "metadata": {},
   "outputs": [],
   "source": [
    "sol = solve(eqn,Gamma, simplify=False)"
   ]
  },
  {
   "cell_type": "code",
   "execution_count": 17,
   "metadata": {},
   "outputs": [],
   "source": [
    "from sympy import latex"
   ]
  },
  {
   "cell_type": "code",
   "execution_count": 21,
   "metadata": {},
   "outputs": [
    {
     "name": "stdout",
     "output_type": "stream",
     "text": [
      "K_{min} = \\frac{\\Gamma L_{obs} u_{rms}}{\\frac{2 \\Gamma}{u_{rms}} L_{obs} k^{2} speed_{diff}^{2} + 1}\n"
     ]
    }
   ],
   "source": [
    "print(latex(eqn))"
   ]
  },
  {
   "cell_type": "markdown",
   "metadata": {},
   "source": [
    "$K_{min} = \\frac{\\Gamma L_{obs} u_{rms}}{\\frac{2 \\Gamma}{u_{rms}} L_{obs} k^{2} speed_{diff}^{2} + 1}$"
   ]
  },
  {
   "cell_type": "code",
   "execution_count": 23,
   "metadata": {},
   "outputs": [
    {
     "name": "stdout",
     "output_type": "stream",
     "text": [
      "\\left [ - \\frac{K_{min} u_{rms}}{2 K_{min} L_{obs} k^{2} speed_{diff}^{2} - L_{obs} u_{rms}^{2}}\\right ]\n"
     ]
    }
   ],
   "source": [
    "print(latex(sol))"
   ]
  },
  {
   "cell_type": "markdown",
   "metadata": {},
   "source": [
    "$\\left [ - \\frac{K_{min} u_{rms}}{2 K_{min} L_{obs} k^{2} speed_{diff}^{2} - L_{obs} u_{rms}^{2}}\\right ]$"
   ]
  },
  {
   "cell_type": "code",
   "execution_count": null,
   "metadata": {},
   "outputs": [],
   "source": []
  }
 ],
 "metadata": {
  "kernelspec": {
   "display_name": "Python 3",
   "language": "python",
   "name": "python3"
  },
  "language_info": {
   "codemirror_mode": {
    "name": "ipython",
    "version": 3
   },
   "file_extension": ".py",
   "mimetype": "text/x-python",
   "name": "python",
   "nbconvert_exporter": "python",
   "pygments_lexer": "ipython3",
   "version": "3.5.5"
  }
 },
 "nbformat": 4,
 "nbformat_minor": 2
}
