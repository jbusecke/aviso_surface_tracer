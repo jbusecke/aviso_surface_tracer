{
 "cells": [
  {
   "cell_type": "markdown",
   "metadata": {},
   "source": [
    "# Visualizations for Presentations"
   ]
  },
  {
   "cell_type": "code",
   "execution_count": 1,
   "metadata": {},
   "outputs": [
    {
     "name": "stderr",
     "output_type": "stream",
     "text": [
      "/rigel/home/jb3210/miniconda/envs/standard/lib/python2.7/site-packages/xarray/core/formatting.py:16: FutureWarning: The pandas.tslib module is deprecated and will be removed in a future version.\n",
      "  from pandas.tslib import OutOfBoundsDatetime\n"
     ]
    }
   ],
   "source": [
    "# import xarrayutils.visualization as viz\n",
    "import xarrayutils as xut\n",
    "from xarrayutils.visualization import Movie\n",
    "from xmitgcm import open_mdsdataset\n",
    "from mitgcm_surface_tracer.tracer_processing import tracer_engine,readbin\n",
    "import xarray as xr\n",
    "import matplotlib as mpl\n",
    "import matplotlib.pyplot as plt\n",
    "import numpy as np\n",
    "%matplotlib inline"
   ]
  },
  {
   "cell_type": "code",
   "execution_count": 2,
   "metadata": {
    "collapsed": true
   },
   "outputs": [],
   "source": [
    "# put these into xarrayutils\n",
    "def harm_mean(da, dim=None, axis=None):\n",
    "    if dim is not None:\n",
    "        if axis is not None:\n",
    "            raise ValueError('cannot set both `dim` and `axis`')\n",
    "        if isinstance(da, xr.Dataset):\n",
    "            axis = da[da.data_vars.keys()[0]].get_axis_num(dim)\n",
    "        elif isinstance(da, xr.DataArray):\n",
    "            axis = da.get_axis_num(dim)\n",
    "    if isinstance(da,np.ndarray):\n",
    "        da[~xr.ufuncs.isfinite(da)] = np.nan\n",
    "        da[abs(da) == 0.0] = np.nan\n",
    "        a = 1.0/da\n",
    "        out = 1.0/(np.nanmean(a,axis=axis))\n",
    "    elif isinstance(da,(xr.DataArray,xr.Dataset)):\n",
    "        da = da.where(xr.ufuncs.isfinite(da))\n",
    "        da = da.where(abs(da) > 0.0)\n",
    "        a = 1.0/da\n",
    "        out = 1.0/(a.mean(dim))\n",
    "    else:\n",
    "        raise RuntimeError('data type of da not supported')\n",
    "    return out"
   ]
  },
  {
   "cell_type": "code",
   "execution_count": 3,
   "metadata": {
    "collapsed": true
   },
   "outputs": [],
   "source": [
    "root = '/rigel/ocp/users/jb3210/aviso_surface_tracer/runs'\n",
    "run = 'run_KOC_LAT'\n",
    "odir = '/rigel/ocp/users/jb3210/aviso_surface_tracer/videos'"
   ]
  },
  {
   "cell_type": "code",
   "execution_count": null,
   "metadata": {
    "collapsed": true
   },
   "outputs": [],
   "source": [
    "from xgcm import Grid\n",
    "from xarrayutils.build_grids import rebuild_grid\n",
    "viddir = odir\n",
    "fname = root+'/'+run+'/output/KOC_RAW.nc'\n",
    "ds = xr.open_dataset(fname,chunks={'time':1})\n",
    "\n",
    "# trac = ds.TRAC01.mean('tracernum')\n",
    "trac = ds.TRAC01.isel(tracernum=1)\n",
    "trac.coords['XC'] = ds['XC']\n",
    "trac.coords['YC'] = ds['YC']\n",
    "\n",
    "ds_re = rebuild_grid(ds)\n",
    "grid = Grid(ds_re)\n",
    "grad = xr.ufuncs.sqrt(xut.xmitgcm_utils.gradient_sq_amplitude(grid,trac))\n",
    "grad = grad.isel(time=slice(0,10))\n",
    "grad.coords['XC'] = ds['XC']\n",
    "grad.coords['YC'] = ds['YC']\n",
    "grad = grad.where(ds.mask)"
   ]
  },
  {
   "cell_type": "code",
   "execution_count": null,
   "metadata": {},
   "outputs": [],
   "source": [
    "trac.isel(time = 5).plot(robust=True)"
   ]
  },
  {
   "cell_type": "code",
   "execution_count": null,
   "metadata": {},
   "outputs": [],
   "source": [
    "%time\n",
    "Movie(trac,viddir,clim = np.array([-90,90]),moviename='LAT_raw',\n",
    "          plot_style='map',\n",
    "          lon='XC',lat='YC',\n",
    "          cmap=plt.cm.inferno,\n",
    "          bgcolor='0.95',\n",
    "          dpi=72)"
   ]
  },
  {
   "cell_type": "code",
   "execution_count": null,
   "metadata": {
    "collapsed": true
   },
   "outputs": [],
   "source": [
    "%time\n",
    "Movie(grad,viddir,clim = np.array([1e-7,1e-4]),moviename='LAT_Grad',\n",
    "          norm=mpl.colors.SymLogNorm(10),\n",
    "          plot_style='map',\n",
    "          lon='XC',lat='YC',\n",
    "          cmap=plt.cm.Blues,\n",
    "          bgcolor='0.95',\n",
    "          dpi=72)"
   ]
  },
  {
   "cell_type": "code",
   "execution_count": null,
   "metadata": {
    "collapsed": true
   },
   "outputs": [],
   "source": []
  }
 ],
 "metadata": {
  "kernelspec": {
   "display_name": "Python 2",
   "language": "python",
   "name": "python2"
  },
  "language_info": {
   "codemirror_mode": {
    "name": "ipython",
    "version": 2
   },
   "file_extension": ".py",
   "mimetype": "text/x-python",
   "name": "python",
   "nbconvert_exporter": "python",
   "pygments_lexer": "ipython2",
   "version": "2.7.13"
  }
 },
 "nbformat": 4,
 "nbformat_minor": 2
}
